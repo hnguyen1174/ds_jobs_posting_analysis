{
  "nbformat": 4,
  "nbformat_minor": 0,
  "metadata": {
    "colab": {
      "name": "MODEL_BERT.ipynb",
      "provenance": [],
      "collapsed_sections": [],
      "toc_visible": true,
      "machine_shape": "hm"
    },
    "kernelspec": {
      "name": "python3",
      "display_name": "Python 3"
    },
    "language_info": {
      "name": "python"
    },
    "accelerator": "GPU"
  },
  "cells": [
    {
      "cell_type": "markdown",
      "metadata": {
        "id": "U1czILlACydY"
      },
      "source": [
        "## 1. Set Up"
      ]
    },
    {
      "cell_type": "code",
      "metadata": {
        "id": "M1-4V00LRNDx"
      },
      "source": [
        "import numpy as np\n",
        "import pandas as pd\n",
        "import random\n",
        "import torch\n",
        "from sklearn.model_selection import train_test_split\n",
        "\n",
        "# Link to /ds_job_project/\n",
        "data_path = '/content/drive/MyDrive/ds_job_project/'"
      ],
      "execution_count": 2,
      "outputs": []
    },
    {
      "cell_type": "code",
      "metadata": {
        "colab": {
          "base_uri": "https://localhost:8080/"
        },
        "id": "7YXpaizFDL7f",
        "outputId": "d63ea20e-bf49-49de-dd6e-a52f716ed394"
      },
      "source": [
        "!pip install transformers"
      ],
      "execution_count": 4,
      "outputs": [
        {
          "output_type": "stream",
          "text": [
            "Collecting transformers\n",
            "\u001b[?25l  Downloading https://files.pythonhosted.org/packages/d5/43/cfe4ee779bbd6a678ac6a97c5a5cdeb03c35f9eaebbb9720b036680f9a2d/transformers-4.6.1-py3-none-any.whl (2.2MB)\n",
            "\u001b[K     |████████████████████████████████| 2.3MB 2.9MB/s \n",
            "\u001b[?25hRequirement already satisfied: importlib-metadata; python_version < \"3.8\" in /usr/local/lib/python3.7/dist-packages (from transformers) (4.0.1)\n",
            "Requirement already satisfied: tqdm>=4.27 in /usr/local/lib/python3.7/dist-packages (from transformers) (4.41.1)\n",
            "Requirement already satisfied: packaging in /usr/local/lib/python3.7/dist-packages (from transformers) (20.9)\n",
            "Requirement already satisfied: filelock in /usr/local/lib/python3.7/dist-packages (from transformers) (3.0.12)\n",
            "Collecting tokenizers<0.11,>=0.10.1\n",
            "\u001b[?25l  Downloading https://files.pythonhosted.org/packages/d4/e2/df3543e8ffdab68f5acc73f613de9c2b155ac47f162e725dcac87c521c11/tokenizers-0.10.3-cp37-cp37m-manylinux_2_5_x86_64.manylinux1_x86_64.manylinux_2_12_x86_64.manylinux2010_x86_64.whl (3.3MB)\n",
            "\u001b[K     |████████████████████████████████| 3.3MB 10.8MB/s \n",
            "\u001b[?25hRequirement already satisfied: numpy>=1.17 in /usr/local/lib/python3.7/dist-packages (from transformers) (1.19.5)\n",
            "Requirement already satisfied: requests in /usr/local/lib/python3.7/dist-packages (from transformers) (2.23.0)\n",
            "Collecting huggingface-hub==0.0.8\n",
            "  Downloading https://files.pythonhosted.org/packages/a1/88/7b1e45720ecf59c6c6737ff332f41c955963090a18e72acbcbeac6b25e86/huggingface_hub-0.0.8-py3-none-any.whl\n",
            "Collecting sacremoses\n",
            "\u001b[?25l  Downloading https://files.pythonhosted.org/packages/75/ee/67241dc87f266093c533a2d4d3d69438e57d7a90abb216fa076e7d475d4a/sacremoses-0.0.45-py3-none-any.whl (895kB)\n",
            "\u001b[K     |████████████████████████████████| 901kB 26.6MB/s \n",
            "\u001b[?25hRequirement already satisfied: regex!=2019.12.17 in /usr/local/lib/python3.7/dist-packages (from transformers) (2019.12.20)\n",
            "Requirement already satisfied: typing-extensions>=3.6.4; python_version < \"3.8\" in /usr/local/lib/python3.7/dist-packages (from importlib-metadata; python_version < \"3.8\"->transformers) (3.7.4.3)\n",
            "Requirement already satisfied: zipp>=0.5 in /usr/local/lib/python3.7/dist-packages (from importlib-metadata; python_version < \"3.8\"->transformers) (3.4.1)\n",
            "Requirement already satisfied: pyparsing>=2.0.2 in /usr/local/lib/python3.7/dist-packages (from packaging->transformers) (2.4.7)\n",
            "Requirement already satisfied: chardet<4,>=3.0.2 in /usr/local/lib/python3.7/dist-packages (from requests->transformers) (3.0.4)\n",
            "Requirement already satisfied: idna<3,>=2.5 in /usr/local/lib/python3.7/dist-packages (from requests->transformers) (2.10)\n",
            "Requirement already satisfied: certifi>=2017.4.17 in /usr/local/lib/python3.7/dist-packages (from requests->transformers) (2020.12.5)\n",
            "Requirement already satisfied: urllib3!=1.25.0,!=1.25.1,<1.26,>=1.21.1 in /usr/local/lib/python3.7/dist-packages (from requests->transformers) (1.24.3)\n",
            "Requirement already satisfied: click in /usr/local/lib/python3.7/dist-packages (from sacremoses->transformers) (7.1.2)\n",
            "Requirement already satisfied: six in /usr/local/lib/python3.7/dist-packages (from sacremoses->transformers) (1.15.0)\n",
            "Requirement already satisfied: joblib in /usr/local/lib/python3.7/dist-packages (from sacremoses->transformers) (1.0.1)\n",
            "Installing collected packages: tokenizers, huggingface-hub, sacremoses, transformers\n",
            "Successfully installed huggingface-hub-0.0.8 sacremoses-0.0.45 tokenizers-0.10.3 transformers-4.6.1\n"
          ],
          "name": "stdout"
        }
      ]
    },
    {
      "cell_type": "code",
      "metadata": {
        "id": "klgPq91IDOMu"
      },
      "source": [
        "from transformers import AutoModelForSequenceClassification, AutoTokenizer\n",
        "from transformers import TrainingArguments, Trainer\n",
        "import torch"
      ],
      "execution_count": 8,
      "outputs": []
    },
    {
      "cell_type": "code",
      "metadata": {
        "colab": {
          "base_uri": "https://localhost:8080/"
        },
        "id": "5wmIzvLIRb53",
        "outputId": "6dd5fbdd-d331-4ba9-e2e2-7a0feecbf739"
      },
      "source": [
        "df = pd.read_csv(data_path + 'data_science_jobs.csv')"
      ],
      "execution_count": 3,
      "outputs": [
        {
          "output_type": "stream",
          "text": [
            "/usr/local/lib/python3.7/dist-packages/IPython/core/interactiveshell.py:2718: DtypeWarning: Columns (54,55,56,57,58,72,73,74,75,76,77,78,79,80,81,82,83,84,85,86,87,88,89,90,91,92,93) have mixed types.Specify dtype option on import or set low_memory=False.\n",
            "  interactivity=interactivity, compiler=compiler, result=result)\n"
          ],
          "name": "stderr"
        }
      ]
    },
    {
      "cell_type": "code",
      "metadata": {
        "id": "c4eUiqQvT_Xr"
      },
      "source": [
        "# Utils function: set seed\n",
        "def set_seed(seed_val = 42):\n",
        "\n",
        "  random.seed(seed_val)\n",
        "  np.random.seed(seed_val)\n",
        "  torch.manual_seed(seed_val)\n",
        "  torch.cuda.manual_seed(seed_val)"
      ],
      "execution_count": 6,
      "outputs": []
    },
    {
      "cell_type": "code",
      "metadata": {
        "id": "nY9V15mfDZYp"
      },
      "source": [
        "class DataJobDataset(torch.utils.data.Dataset):\n",
        "    def __init__(self, encodings, labels):\n",
        "        self.encodings = encodings\n",
        "        self.labels = labels\n",
        "\n",
        "    def __getitem__(self, idx):\n",
        "        item = {key: torch.tensor(val[idx]) for key, val in self.encodings.items()}\n",
        "        item['labels'] = torch.tensor(self.labels[idx])\n",
        "        return item\n",
        "\n",
        "    def __len__(self):\n",
        "        return len(self.labels)"
      ],
      "execution_count": 9,
      "outputs": []
    },
    {
      "cell_type": "code",
      "metadata": {
        "id": "rvzfcKYHDdGO"
      },
      "source": [
        "from sklearn.metrics import mean_squared_error, r2_score, mean_absolute_error\n",
        "\n",
        "# compute metrics function for binary classification\n",
        "def compute_metrics(pred):\n",
        "    labels = pred.label_ids\n",
        "    preds = pred.predictions\n",
        "    mse = mean_squared_error(labels, preds)\n",
        "    rmse = mean_squared_error(labels, preds, squared=False)\n",
        "    r2 = r2_score(labels, preds)\n",
        "    mae = mean_absolute_error(labels, preds)\n",
        "    return {\"mse\": mse, \"r2\": r2, \"mae\": mae, \"rmse\": rmse}"
      ],
      "execution_count": 10,
      "outputs": []
    },
    {
      "cell_type": "code",
      "metadata": {
        "id": "_gmfI_lLDikh"
      },
      "source": [
        "train, test = train_test_split(df, random_state=420, test_size=0.2)"
      ],
      "execution_count": null,
      "outputs": []
    },
    {
      "cell_type": "markdown",
      "metadata": {
        "id": "T5omPo3eDJUX"
      },
      "source": [
        "## 2. Modelling: ML Index"
      ]
    },
    {
      "cell_type": "code",
      "metadata": {
        "colab": {
          "base_uri": "https://localhost:8080/"
        },
        "id": "xvcSQZyDSj5Q",
        "outputId": "821fffbf-25b0-45f9-dff1-6c4ddbc28a52"
      },
      "source": [
        "model_name = 'distilbert-base-uncased'\n",
        "tokenizer = AutoTokenizer.from_pretrained(model_name)\n",
        "model = AutoModelForSequenceClassification.from_pretrained(model_name, num_labels=1)"
      ],
      "execution_count": null,
      "outputs": [
        {
          "output_type": "stream",
          "text": [
            "Some weights of the model checkpoint at distilbert-base-uncased were not used when initializing DistilBertForSequenceClassification: ['vocab_projector.bias', 'vocab_transform.weight', 'vocab_transform.bias', 'vocab_projector.weight', 'vocab_layer_norm.weight', 'vocab_layer_norm.bias']\n",
            "- This IS expected if you are initializing DistilBertForSequenceClassification from the checkpoint of a model trained on another task or with another architecture (e.g. initializing a BertForSequenceClassification model from a BertForPreTraining model).\n",
            "- This IS NOT expected if you are initializing DistilBertForSequenceClassification from the checkpoint of a model that you expect to be exactly identical (initializing a BertForSequenceClassification model from a BertForSequenceClassification model).\n",
            "Some weights of DistilBertForSequenceClassification were not initialized from the model checkpoint at distilbert-base-uncased and are newly initialized: ['pre_classifier.bias', 'classifier.weight', 'pre_classifier.weight', 'classifier.bias']\n",
            "You should probably TRAIN this model on a down-stream task to be able to use it for predictions and inference.\n"
          ],
          "name": "stderr"
        }
      ]
    },
    {
      "cell_type": "code",
      "metadata": {
        "id": "p-56Byi3SrYh"
      },
      "source": [
        "train_texts = train['JOB_DESC'].to_list()\n",
        "test_texts = test['JOB_DESC'].to_list()\n",
        "\n",
        "train_encodings = tokenizer(train_texts, truncation=True, padding=True)\n",
        "test_encodings = tokenizer(test_texts, truncation=True, padding=True)\n",
        "\n",
        "train_target = train['ML_INDEX'].to_list()\n",
        "test_target = test['ML_INDEX'].to_list()\n",
        "\n",
        "train_dataset = DataJobDataset(train_encodings, train_target)\n",
        "test_dataset = DataJobDataset(test_encodings, test_target)"
      ],
      "execution_count": null,
      "outputs": []
    },
    {
      "cell_type": "code",
      "metadata": {
        "colab": {
          "base_uri": "https://localhost:8080/",
          "height": 236
        },
        "id": "RZJ2P1inmE2_",
        "outputId": "5e72b766-c9e5-4de2-a04c-ff22a4b018b2"
      },
      "source": [
        "set_seed()\n",
        "\n",
        "training_args = TrainingArguments(\n",
        "    output_dir= 'results',          \n",
        "    num_train_epochs=4,              \n",
        "    per_device_train_batch_size=16,  \n",
        "    per_device_eval_batch_size=16,   \n",
        "    evaluation_strategy=\"epoch\",\n",
        "    learning_rate = 5e-5,\n",
        "    warmup_steps=500,                \n",
        "    weight_decay=0.01,               \n",
        "    logging_dir='logs',            \n",
        "    logging_steps=10,\n",
        ")\n",
        "\n",
        "trainer = Trainer(\n",
        "    model=model,                         \n",
        "    args=training_args,\n",
        "    compute_metrics=compute_metrics,                  \n",
        "    train_dataset=train_dataset,         \n",
        "    eval_dataset=test_dataset             \n",
        ")\n",
        "\n",
        "trainer.train()"
      ],
      "execution_count": null,
      "outputs": [
        {
          "output_type": "display_data",
          "data": {
            "text/html": [
              "\n",
              "    <div>\n",
              "      \n",
              "      <progress value='2196' max='2196' style='width:300px; height:20px; vertical-align: middle;'></progress>\n",
              "      [2196/2196 15:00, Epoch 4/4]\n",
              "    </div>\n",
              "    <table border=\"1\" class=\"dataframe\">\n",
              "  <thead>\n",
              "    <tr style=\"text-align: left;\">\n",
              "      <th>Epoch</th>\n",
              "      <th>Training Loss</th>\n",
              "      <th>Validation Loss</th>\n",
              "      <th>Mse</th>\n",
              "      <th>R2</th>\n",
              "      <th>Mae</th>\n",
              "      <th>Rmse</th>\n",
              "    </tr>\n",
              "  </thead>\n",
              "  <tbody>\n",
              "    <tr>\n",
              "      <td>1</td>\n",
              "      <td>37.382300</td>\n",
              "      <td>201.231812</td>\n",
              "      <td>201.231827</td>\n",
              "      <td>0.703173</td>\n",
              "      <td>7.043750</td>\n",
              "      <td>14.185620</td>\n",
              "    </tr>\n",
              "    <tr>\n",
              "      <td>2</td>\n",
              "      <td>19.117300</td>\n",
              "      <td>167.728165</td>\n",
              "      <td>167.728149</td>\n",
              "      <td>0.752593</td>\n",
              "      <td>6.394526</td>\n",
              "      <td>12.950991</td>\n",
              "    </tr>\n",
              "    <tr>\n",
              "      <td>3</td>\n",
              "      <td>61.872700</td>\n",
              "      <td>157.453430</td>\n",
              "      <td>157.453400</td>\n",
              "      <td>0.767749</td>\n",
              "      <td>6.126414</td>\n",
              "      <td>12.548043</td>\n",
              "    </tr>\n",
              "    <tr>\n",
              "      <td>4</td>\n",
              "      <td>23.911900</td>\n",
              "      <td>155.858322</td>\n",
              "      <td>155.858307</td>\n",
              "      <td>0.770101</td>\n",
              "      <td>5.771966</td>\n",
              "      <td>12.484323</td>\n",
              "    </tr>\n",
              "  </tbody>\n",
              "</table><p>"
            ],
            "text/plain": [
              "<IPython.core.display.HTML object>"
            ]
          },
          "metadata": {
            "tags": []
          }
        },
        {
          "output_type": "execute_result",
          "data": {
            "text/plain": [
              "TrainOutput(global_step=2196, training_loss=64.06293156455341, metrics={'train_runtime': 901.0168, 'train_samples_per_second': 2.437, 'total_flos': 645023231311872.0, 'epoch': 4.0, 'init_mem_cpu_alloc_delta': 0, 'init_mem_gpu_alloc_delta': 0, 'init_mem_cpu_peaked_delta': 0, 'init_mem_gpu_peaked_delta': 0, 'train_mem_cpu_alloc_delta': 0, 'train_mem_gpu_alloc_delta': 536553472, 'train_mem_cpu_peaked_delta': 0, 'train_mem_gpu_peaked_delta': 6562893824})"
            ]
          },
          "metadata": {
            "tags": []
          },
          "execution_count": 42
        }
      ]
    },
    {
      "cell_type": "code",
      "metadata": {
        "id": "prR2IB9OmJTl"
      },
      "source": [
        "tokenizer.save_pretrained(data_path + 'ml_distilbert/tokenizer')\n",
        "trainer.save_model(data_path + 'ml_distilbert')\n",
        "\n",
        "from transformers import AutoConfig\n",
        "config = AutoConfig.from_pretrained('distilbert-base-uncased')\n",
        "config.save_pretrained('ml_distilbert/tokenizer')"
      ],
      "execution_count": null,
      "outputs": []
    },
    {
      "cell_type": "markdown",
      "metadata": {
        "id": "QXzRHv7X64NH"
      },
      "source": [
        "## 3. Natural Language Processing Index"
      ]
    },
    {
      "cell_type": "code",
      "metadata": {
        "colab": {
          "base_uri": "https://localhost:8080/",
          "height": 205
        },
        "id": "jd5uXaxk_Sng",
        "outputId": "2066514a-7239-4624-a079-c2967337433c"
      },
      "source": [
        "set_seed()\n",
        "\n",
        "model_name = 'distilbert-base-uncased'\n",
        "tokenizer = AutoTokenizer.from_pretrained(model_name)\n",
        "model = AutoModelForSequenceClassification.from_pretrained(model_name, num_labels=1)\n",
        "\n",
        "train_encodings = tokenizer(train_texts, truncation=True, padding=True)\n",
        "test_encodings = tokenizer(test_texts, truncation=True, padding=True)\n",
        "\n",
        "train_target = train['NLP_INDEX'].to_list()\n",
        "test_target = test['NLP_INDEX'].to_list()\n",
        "\n",
        "train_dataset = DataJobDataset(train_encodings, train_target)\n",
        "test_dataset = DataJobDataset(test_encodings, test_target)\n",
        "\n",
        "training_args = TrainingArguments(\n",
        "    output_dir= 'results',          \n",
        "    num_train_epochs=3,              \n",
        "    per_device_train_batch_size=32,  \n",
        "    per_device_eval_batch_size=32,   \n",
        "    evaluation_strategy=\"epoch\",\n",
        "    learning_rate = 5e-5,\n",
        "    warmup_steps=500,                \n",
        "    weight_decay=0.01,               \n",
        "    logging_dir='logs',            \n",
        "    logging_steps=10,\n",
        ")\n",
        "\n",
        "trainer = Trainer(\n",
        "    model=model,                         \n",
        "    args=training_args,\n",
        "    compute_metrics=compute_metrics,                  \n",
        "    train_dataset=train_dataset,         \n",
        "    eval_dataset=test_dataset             \n",
        ")\n",
        "\n",
        "trainer.train()"
      ],
      "execution_count": null,
      "outputs": [
        {
          "output_type": "display_data",
          "data": {
            "text/html": [
              "\n",
              "    <div>\n",
              "      \n",
              "      <progress value='825' max='825' style='width:300px; height:20px; vertical-align: middle;'></progress>\n",
              "      [825/825 08:57, Epoch 3/3]\n",
              "    </div>\n",
              "    <table border=\"1\" class=\"dataframe\">\n",
              "  <thead>\n",
              "    <tr style=\"text-align: left;\">\n",
              "      <th>Epoch</th>\n",
              "      <th>Training Loss</th>\n",
              "      <th>Validation Loss</th>\n",
              "      <th>Mse</th>\n",
              "      <th>R2</th>\n",
              "      <th>Mae</th>\n",
              "      <th>Rmse</th>\n",
              "    </tr>\n",
              "  </thead>\n",
              "  <tbody>\n",
              "    <tr>\n",
              "      <td>1</td>\n",
              "      <td>13.436300</td>\n",
              "      <td>25.202383</td>\n",
              "      <td>25.202385</td>\n",
              "      <td>0.821076</td>\n",
              "      <td>2.425747</td>\n",
              "      <td>5.020198</td>\n",
              "    </tr>\n",
              "    <tr>\n",
              "      <td>2</td>\n",
              "      <td>9.848100</td>\n",
              "      <td>25.506554</td>\n",
              "      <td>25.506554</td>\n",
              "      <td>0.818916</td>\n",
              "      <td>2.634434</td>\n",
              "      <td>5.050401</td>\n",
              "    </tr>\n",
              "    <tr>\n",
              "      <td>3</td>\n",
              "      <td>11.855100</td>\n",
              "      <td>23.231352</td>\n",
              "      <td>23.231352</td>\n",
              "      <td>0.835069</td>\n",
              "      <td>2.243505</td>\n",
              "      <td>4.819891</td>\n",
              "    </tr>\n",
              "  </tbody>\n",
              "</table><p>"
            ],
            "text/plain": [
              "<IPython.core.display.HTML object>"
            ]
          },
          "metadata": {
            "tags": []
          }
        },
        {
          "output_type": "execute_result",
          "data": {
            "text/plain": [
              "TrainOutput(global_step=825, training_loss=18.114678446451823, metrics={'train_runtime': 538.0893, 'train_samples_per_second': 1.533, 'total_flos': 2132525785153536.0, 'epoch': 3.0, 'init_mem_cpu_alloc_delta': 0, 'init_mem_gpu_alloc_delta': 0, 'init_mem_cpu_peaked_delta': 0, 'init_mem_gpu_peaked_delta': 0, 'train_mem_cpu_alloc_delta': 24576, 'train_mem_gpu_alloc_delta': 543631360, 'train_mem_cpu_peaked_delta': 0, 'train_mem_gpu_peaked_delta': 13364958720})"
            ]
          },
          "metadata": {
            "tags": []
          },
          "execution_count": 56
        }
      ]
    },
    {
      "cell_type": "code",
      "metadata": {
        "id": "lFgc0s50Dp9Z"
      },
      "source": [
        "trainer.save_model(data_path + 'nlp_distilbert')\n",
        "tokenizer.save_pretrained(data_path + 'nlp_distilbert/tokenizer')\n",
        "\n",
        "from transformers import AutoConfig\n",
        "config = AutoConfig.from_pretrained('distilbert-base-uncased')\n",
        "config.save_pretrained(data_path + 'nlp_distilbert/tokenizer')"
      ],
      "execution_count": null,
      "outputs": []
    },
    {
      "cell_type": "markdown",
      "metadata": {
        "id": "jpg7B-wVJYml"
      },
      "source": [
        "## 4. Computer Vision"
      ]
    },
    {
      "cell_type": "code",
      "metadata": {
        "colab": {
          "base_uri": "https://localhost:8080/",
          "height": 205
        },
        "id": "t8St4IJAPJtk",
        "outputId": "f3010358-0f8c-4a2c-8291-bf53823aad89"
      },
      "source": [
        "set_seed()\n",
        "\n",
        "model_name = 'distilbert-base-uncased'\n",
        "tokenizer = AutoTokenizer.from_pretrained(model_name)\n",
        "model = AutoModelForSequenceClassification.from_pretrained(model_name, num_labels=1)\n",
        "\n",
        "train_encodings = tokenizer(train_texts, truncation=True, padding=True)\n",
        "test_encodings = tokenizer(test_texts, truncation=True, padding=True)\n",
        "\n",
        "train_target = train['CV_INDEX'].to_list()\n",
        "test_target = test['CV_INDEX'].to_list()\n",
        "\n",
        "train_dataset = DataJobDataset(train_encodings, train_target)\n",
        "test_dataset = DataJobDataset(test_encodings, test_target)\n",
        "\n",
        "training_args = TrainingArguments(\n",
        "    output_dir= 'results',          \n",
        "    num_train_epochs=3,              \n",
        "    per_device_train_batch_size=32,  \n",
        "    per_device_eval_batch_size=32,   \n",
        "    evaluation_strategy=\"epoch\",\n",
        "    learning_rate = 5e-5,\n",
        "    warmup_steps=500,                \n",
        "    weight_decay=0.01,               \n",
        "    logging_dir='logs',            \n",
        "    logging_steps=10,\n",
        ")\n",
        "\n",
        "trainer = Trainer(\n",
        "    model=model,                         \n",
        "    args=training_args,\n",
        "    compute_metrics=compute_metrics,                  \n",
        "    train_dataset=train_dataset,         \n",
        "    eval_dataset=test_dataset             \n",
        ")\n",
        "\n",
        "trainer.train()"
      ],
      "execution_count": null,
      "outputs": [
        {
          "output_type": "display_data",
          "data": {
            "text/html": [
              "\n",
              "    <div>\n",
              "      \n",
              "      <progress value='825' max='825' style='width:300px; height:20px; vertical-align: middle;'></progress>\n",
              "      [825/825 08:46, Epoch 3/3]\n",
              "    </div>\n",
              "    <table border=\"1\" class=\"dataframe\">\n",
              "  <thead>\n",
              "    <tr style=\"text-align: left;\">\n",
              "      <th>Epoch</th>\n",
              "      <th>Training Loss</th>\n",
              "      <th>Validation Loss</th>\n",
              "      <th>Mse</th>\n",
              "      <th>R2</th>\n",
              "      <th>Mae</th>\n",
              "      <th>Rmse</th>\n",
              "    </tr>\n",
              "  </thead>\n",
              "  <tbody>\n",
              "    <tr>\n",
              "      <td>1</td>\n",
              "      <td>5.664100</td>\n",
              "      <td>36.902161</td>\n",
              "      <td>36.902153</td>\n",
              "      <td>0.782354</td>\n",
              "      <td>1.749505</td>\n",
              "      <td>6.074714</td>\n",
              "    </tr>\n",
              "    <tr>\n",
              "      <td>2</td>\n",
              "      <td>4.071600</td>\n",
              "      <td>36.918991</td>\n",
              "      <td>36.918999</td>\n",
              "      <td>0.782255</td>\n",
              "      <td>1.769234</td>\n",
              "      <td>6.076101</td>\n",
              "    </tr>\n",
              "    <tr>\n",
              "      <td>3</td>\n",
              "      <td>142.754800</td>\n",
              "      <td>35.345486</td>\n",
              "      <td>35.345474</td>\n",
              "      <td>0.791536</td>\n",
              "      <td>1.542229</td>\n",
              "      <td>5.945206</td>\n",
              "    </tr>\n",
              "  </tbody>\n",
              "</table><p>"
            ],
            "text/plain": [
              "<IPython.core.display.HTML object>"
            ]
          },
          "metadata": {
            "tags": []
          }
        },
        {
          "output_type": "execute_result",
          "data": {
            "text/plain": [
              "TrainOutput(global_step=825, training_loss=16.46228397253788, metrics={'train_runtime': 527.5146, 'train_samples_per_second': 1.564, 'total_flos': 2132525785153536.0, 'epoch': 3.0, 'init_mem_cpu_alloc_delta': 0, 'init_mem_gpu_alloc_delta': 0, 'init_mem_cpu_peaked_delta': 0, 'init_mem_gpu_peaked_delta': 0, 'train_mem_cpu_alloc_delta': 0, 'train_mem_gpu_alloc_delta': 543893504, 'train_mem_cpu_peaked_delta': 8192, 'train_mem_gpu_peaked_delta': 13223400960})"
            ]
          },
          "metadata": {
            "tags": []
          },
          "execution_count": 72
        }
      ]
    },
    {
      "cell_type": "code",
      "metadata": {
        "id": "Ra9hvZYDPMPq"
      },
      "source": [
        "config.save_pretrained(data_path + 'cv_distilbert/tokenizer')\n",
        "trainer.save_model(data_path + 'cv_distilbert')\n",
        "tokenizer.save_pretrained(data_path + 'cv_distilbert/tokenizer')"
      ],
      "execution_count": null,
      "outputs": []
    }
  ]
}